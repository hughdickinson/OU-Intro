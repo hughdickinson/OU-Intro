{
 "cells": [
  {
   "cell_type": "markdown",
   "metadata": {},
   "source": [
    "# Python checkout\n",
    "\n",
    "If you're not sure how good your Python is, then this notebook will guide you through some basic coding. By the end you'll have covered simple maths, loops, selection, importing and using modules like numpy and matplotlib.\n",
    "\n",
    "The exercise are rather contrived but do demonstrate useful stuff.\n"
   ]
  },
  {
   "cell_type": "markdown",
   "metadata": {},
   "source": [
    "## Exercise 1. Simple input, lists, loops and printing\n",
    "\n",
    "Firstly we'll cover essential stuff like, inputing numbers, creating and adding to lists, looping through these lists and printing stuff out. Here's a simple description:\n",
    "\n",
    "1. Print out some instructions\n",
    "2. Creat a list to hold temperature values - in Celsius\n",
    "3. Start a loop that will ask the user for a temperature and append it to the list\n",
    "4. Repeat the loop until, either the user says to stop or until we have 5 temperatures\n",
    "5. Create a second list containing the corresponding Kelvin temperatures\n",
    "6. Use both lists to show converesion (1 d.p.) in the form - \"x degrees Celsius is y degreees kelvin\".\n",
    "7. Stop\n",
    "\n",
    "There are other, simpler, ways of achieving the same result - but just do it this way for now."
   ]
  },
  {
   "cell_type": "code",
   "execution_count": 1,
   "metadata": {},
   "outputs": [
    {
     "name": "stdout",
     "output_type": "stream",
     "text": [
      "Hi. You'll be prompted to enter up to 5 temperatures in Celsius.\n",
      "When done, these will be converted to Kelvin an printed out.\n",
      "\n",
      "Input a temperature - in Celsius: 12\n",
      "Continue? (y/n) n\n",
      "12.0 degrees Celsius is 285.1 degrees Kelvin\n"
     ]
    }
   ],
   "source": [
    "# Print out instructions. Note the '\\' to 'escape' the ' and the '\\n' to produce a new line\n",
    "print('Hi. You\\'ll be prompted to enter up to 5 temperatures in Celsius.') \n",
    "print('When done, these will be converted to Kelvin an printed out.\\n')\n",
    "\n",
    "#Set up list and counter - and a 'continue' flag\n",
    "temps=[]\n",
    "count=1\n",
    "cont='y'\n",
    "\n",
    "# Get the temperatures\n",
    "while count <= 5 and (cont=='y' or cont=='Y'):\n",
    "    t=float(input('Input a temperature - in Celsius: '))\n",
    "    temps.append(t)\n",
    "    count += 1\n",
    "    if count <=5:\n",
    "        cont = input('Continue? (y/n) ')\n",
    "                      \n",
    "# Creat a Kelvin list\n",
    "k_temps = []\n",
    "# Fill it with converted temperatures\n",
    "for t in temps:\n",
    "    k_temps.append(t+273.15)\n",
    "# Print out (using 'f strings' for formatting)\n",
    "for i in range(len(temps)):\n",
    "    print(f'{temps[i]:.1f} degrees Celsius is {k_temps[i]:.1f} degrees Kelvin')\n",
    "\n"
   ]
  },
  {
   "cell_type": "markdown",
   "metadata": {},
   "source": [
    "\n",
    "## Excercise 2. Now do it with numpy\n",
    "\n",
    "Repeat, but using numpy to simplify the conversion. (you can operate on a whole numpy array at once.)\n"
   ]
  },
  {
   "cell_type": "code",
   "execution_count": 2,
   "metadata": {},
   "outputs": [
    {
     "name": "stdout",
     "output_type": "stream",
     "text": [
      "Hi. You'll be prompted to enter up to 5 temperatures in Celsius.\n",
      "When done, these will be converted to Kelvin an printed out.\n",
      "\n",
      "Input a temperature - in Celsius: 23\n",
      "Continue? (y/n) n\n",
      "23.0 degrees Celsius is 296.1 degrees Kelvin\n"
     ]
    }
   ],
   "source": [
    "# First import nump\n",
    "import numpy as np\n",
    "\n",
    "# Initial lines will be very similar - exept we declare a numpy array and use np.append()\n",
    "# Print out instructions. Note the '\\' to 'escape' the ' and the '\\n' to produce a new line\n",
    "print('Hi. You\\'ll be prompted to enter up to 5 temperatures in Celsius.') \n",
    "print('When done, these will be converted to Kelvin an printed out.\\n')\n",
    "\n",
    "#Set up list and counter - and a 'continue' flag\n",
    "temps=np.array([])\n",
    "count=1\n",
    "cont='y'\n",
    "\n",
    "# Get the temperatures\n",
    "while count <= 5 and (cont=='y' or cont=='Y'):\n",
    "    t=float(input('Input a temperature - in Celsius: '))\n",
    "    temps = np.append(temps,t)\n",
    "    count += 1\n",
    "    if count <=5:\n",
    "        cont = input('Continue? (y/n) ')\n",
    "                      \n",
    "# Now it gets easier as we can operate on the numpy array all at once\n",
    "k_temps = temps+273.15\n",
    "\n",
    "# Print out (using 'f strings' for formatting)\n",
    "for i in range(len(temps)):\n",
    "    print(f'{temps[i]:.1f} degrees Celsius is {k_temps[i]:.1f} degrees Kelvin')\n"
   ]
  },
  {
   "cell_type": "markdown",
   "metadata": {},
   "source": [
    "\n",
    "## Exercise 3. Plotting graphs.\n",
    "\n",
    "Now we'll looking at creating data and plotting it out. Matplotlib does the job well. However, if you're pretty competent with this module, have alook at 'Bokeh'. This is an alternative that is particularly good at producing 'interactive' plots that allow the user to gather much greater 'live' detail from the reultant plot. A Bokeh notebook will be available later.\n",
    "\n",
    "To start with, use numpy 'linspace' to produce x-axis values between -10 and +10, at an interval of 0.5. Using this, produce a simple plot - with title, axis labels and a legend displaying $x^2$ and $1.5x^2-5$ lines. Display the first as a dashed line and the second as red circles.\n",
    "\n"
   ]
  },
  {
   "cell_type": "code",
   "execution_count": 4,
   "metadata": {},
   "outputs": [
    {
     "data": {
      "image/png": "[encoded data removed]",
      "text/plain": [
       "<Figure size 432x288 with 1 Axes>"
      ]
     },
     "metadata": {
      "needs_background": "light"
     },
     "output_type": "display_data"
    }
   ],
   "source": [
    "# Get matplotlib to produce figures in Jupyter Notebooks\n",
    "%matplotlib inline\n",
    "\n",
    "# Import modules\n",
    "import numpy as np\n",
    "import matplotlib.pyplot as p\n",
    "\n",
    "#Create the x-axis values\n",
    "x = np.linspace(-10,10,21)\n",
    "\n",
    "#Now the 2 sets of y_vals\n",
    "#NOTE how easy it is to perate on the numpy arrays as a whole?\n",
    "y1 = x**2\n",
    "y2 = 1.5*x**2-5\n",
    "\n",
    "#Now set up simple line plots\n",
    "plt.plot(x,y1, '--', label='x^2')\n",
    "plt.plot(x,y2, 'ro',  label='1.5x^2-5')\n",
    "\n",
    "#Decorations\n",
    "plt.title('Some lines')\n",
    "plt.xlabel('x')\n",
    "plt.ylabel('y1 and y2')\n",
    "plt.legend()\n",
    "\n",
    "#Display it\n",
    "plt.show()\n"
   ]
  },
  {
   "cell_type": "code",
   "execution_count": null,
   "metadata": {},
   "outputs": [],
   "source": []
  }
 ],
 "metadata": {
  "kernelspec": {
   "display_name": "Python 3",
   "language": "python",
   "name": "python3"
  },
  "language_info": {
   "codemirror_mode": {
    "name": "ipython",
    "version": 3
   },
   "file_extension": ".py",
   "mimetype": "text/x-python",
   "name": "python",
   "nbconvert_exporter": "python",
   "pygments_lexer": "ipython3",
   "version": "3.7.3"
  }
 },
 "nbformat": 4,
 "nbformat_minor": 2
}
