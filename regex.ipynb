{
 "cells": [
  {
   "cell_type": "code",
   "execution_count": null,
   "metadata": {},
   "outputs": [],
   "source": []
  },
  {
   "cell_type": "code",
   "execution_count": null,
   "metadata": {},
   "outputs": [],
   "source": []
  },
  {
   "cell_type": "markdown",
   "metadata": {},
   "source": [
    "# Regular Expressions - regex\n",
    "\n",
    "We'll look at regula expressions here. In their simplest form these are a way to check whether a sring of charactars contains a particular sub-string. So, for exaple, 'Hello World' contains the sub-string 'llo' but not 'Earth'. However, they are much more powerful that this and allow strings to be checked for multiple occiurances or for sub-strings matching some form of matching pattern, dor example one, two or three capital letters followed by exactly 5 numbers, or even more comlex matches. As first glance they seem impenetrably complex but we'll go through things step-by-step and introduce some of their useful features.\n",
    "\n",
    "Python implements regular expressions but so do many other programming languages so learning the basics should pay dividends.\n",
    "\n",
    "Python implements the system in the 're' module. There are 3 main functions that you need to know about - **`re.search()`**, **`re.match()`**, and **`re,compile()`** Actually, **`re.match`** is pretty much the same as **`re.search`** but only matches the sub-string if it is at the begining of the line - and won't span multiple lines. So we'll tend to concentrate on **`re-serach`**.\n",
    "\n",
    "All of thes use a 'template' search pattern string to define the search terms. In our Hellow World example above this would simply be **`'llo'`**. So how would we use this:\n",
    "\n"
   ]
  },
  {
   "cell_type": "code",
   "execution_count": 2,
   "metadata": {},
   "outputs": [],
   "source": [
    "import re # Because 're' is so short we don't bother with 'as re'"
   ]
  },
  {
   "cell_type": "markdown",
   "metadata": {},
   "source": [
    "# Using basic re.search()\n",
    "\n",
    "Essentially, we feed it 2 parameters - a search pattern and a string to search. The function will return an 'object' only if it's found something. You can check for this using a simple **`if`** statement.\n"
   ]
  },
  {
   "cell_type": "code",
   "execution_count": 98,
   "metadata": {},
   "outputs": [
    {
     "name": "stdout",
     "output_type": "stream",
     "text": [
      "Hooray! - got a llo\n"
     ]
    }
   ],
   "source": [
    "\n",
    "search_string = r\"llo\"\n",
    "full_string = 'Hello World'\n",
    "\n",
    "if re.search(search_string, full_string):\n",
    "    print( 'Hooray! - got a llo')\n",
    "else:\n",
    "    print('Boo. No llo')\n"
   ]
  },
  {
   "cell_type": "code",
   "execution_count": 99,
   "metadata": {},
   "outputs": [
    {
     "name": "stdout",
     "output_type": "stream",
     "text": [
      "Boo. No Earth\n"
     ]
    }
   ],
   "source": [
    "search_string = r\"Earth\"\n",
    "full_string = 'Hello World'\n",
    "\n",
    "if re.search(search_string, full_string):\n",
    "    print( 'Hooray! - got a Earth')\n",
    "else:\n",
    "    print('Boo. No Earth')"
   ]
  },
  {
   "cell_type": "markdown",
   "metadata": {},
   "source": [
    "\n",
    "Notice how we formed the serach pattern string using \"\" preceded with an 'r'. We'll explain this in just a bit."
   ]
  },
  {
   "cell_type": "markdown",
   "metadata": {},
   "source": [
    "## Exercise\n",
    "\n",
    "Write a small program were you input a simple string and then search to see if it's in the string \"The quick brown fox jumps over the lazy dogs\". Put it in a loop if you want to keep trying.\n"
   ]
  },
  {
   "cell_type": "code",
   "execution_count": 77,
   "metadata": {},
   "outputs": [
    {
     "name": "stdout",
     "output_type": "stream",
     "text": [
      "Please enter a search term t\n",
      "It is there!\n"
     ]
    }
   ],
   "source": [
    "ss = input('Please enter a search term ')\n",
    "long_string = \"The quick brown fox jumps over the lazy dogs\"\n",
    "if re.search(ss, long_string):\n",
    "    print('It is there!')\n",
    "else:\n",
    "    print('Sorry, no cigar')"
   ]
  },
  {
   "cell_type": "markdown",
   "metadata": {},
   "source": [
    "\n",
    "So, so far so straight forward. But now let's set up a search pattern string rather than a fixed search string. This is where it get's more complicated.\n",
    "\n",
    "Firstly, we could search for a charcter that's withn a range. So **`'[a-z]'`** will match all the lower case letters from a to z. **`'[A-Z]'`** - the upper case letters **`'[A-Za-z]'`** upper and lower case. **`'[abdf]'`** will look for and match any of the letters a,b,d, or f. Digits can be represnted by something like: **`'[3-8]'`**"
   ]
  },
  {
   "cell_type": "code",
   "execution_count": 78,
   "metadata": {},
   "outputs": [],
   "source": [
    "ss = r\"[ahukl]\"\n",
    "re.search(ss,'qwerty')"
   ]
  },
  {
   "cell_type": "markdown",
   "metadata": {},
   "source": [
    "Doesn't match whilst this next string will."
   ]
  },
  {
   "cell_type": "code",
   "execution_count": 79,
   "metadata": {},
   "outputs": [
    {
     "data": {
      "text/plain": [
       "<re.Match object; span=(0, 1), match='a'>"
      ]
     },
     "execution_count": 79,
     "metadata": {},
     "output_type": "execute_result"
    }
   ],
   "source": [
    "ss = r\"[ahukl]\"\n",
    "re.search(ss,'asdfg')"
   ]
  },
  {
   "cell_type": "markdown",
   "metadata": {},
   "source": [
    "#### Special characters\n",
    "\n",
    "[] matches anything inside it but there are some shortcuts. **`\\d`** matches any digit (same as [0-9] and **`\\w`** matches any 'word' character 0-9, a-z, A-Z (and underscore). The full stop **`.'`** matches any single character (except the newline character), **`\\s`** will match any whitespace (space, newline, tab, return), **`\\t`** the tab charecter ... and so on - this is not an exhaustive list.\n",
    "\n",
    "#### A bit of a WARNING here. Generally the use of the '\\\\' can be frought with danger. The interpreter and/or operating system can interpret this as denoting the presence of a special character. So, in a Python string, \"\\n\" is interpreted as a single character - the newline character - and not as 2 characters - '\\\\' and 'n'. This can mess up things in the regex pattern string. To make sure this does not happen, we tack an 'r' onto the front of the pattern string (it stands for 'raw' text please). So dont use, for example**`'\\d\\d'`** use **`r'\\d\\d'`**.\n"
   ]
  },
  {
   "cell_type": "markdown",
   "metadata": {},
   "source": [
    "\n",
    "But matching individual letters or numbers isn't hugely useful. I'd like to match a string that has any number of digits in a cluster (1224, 8923, or even plain 1). To do this we need to take our matching template and follow it by something telling it to match with some number of the matching characters. \n",
    "\n",
    "To match, say exactly 3 numbers we would use some curly brackets like this - **`'[0-9]{3}'`** (or **`'\\d{3}'`**. This will not match 3 or 95 but will match 735. But, a word of warning, it will also match 7351 because any the 4 digits also contains a string of 3 digits! You can make it match ONLY 3 digits and we'll see this later. \n",
    "\n",
    "Note the way we're forming the regex pattern now with an r followed by the string in \"\".\n"
   ]
  },
  {
   "cell_type": "code",
   "execution_count": 80,
   "metadata": {},
   "outputs": [],
   "source": [
    "ss=r\"\\d{3}\"\n",
    "re.search(ss,'qw13hdf')"
   ]
  },
  {
   "cell_type": "markdown",
   "metadata": {},
   "source": [
    "Doesn't match but the following will:"
   ]
  },
  {
   "cell_type": "code",
   "execution_count": 81,
   "metadata": {},
   "outputs": [
    {
     "data": {
      "text/plain": [
       "<re.Match object; span=(2, 5), match='129'>"
      ]
     },
     "execution_count": 81,
     "metadata": {},
     "output_type": "execute_result"
    }
   ],
   "source": [
    "ss=r\"\\d{3}\"\n",
    "re.search(ss,'qw129hdf')"
   ]
  },
  {
   "cell_type": "markdown",
   "metadata": {},
   "source": [
    "#### Special positional characters\n",
    "\n",
    "There are various 'positional' characters as well. **`'^'`** matches the start of the string, **`'$'`** the end of the string and **`'\\b'`** the beginning and end of a word"
   ]
  },
  {
   "cell_type": "markdown",
   "metadata": {},
   "source": [
    "#### Repetition\n",
    "\n",
    "There are also 'wildcard' like repetition characters. **`+`** wil match with ONE or more character (or group of characters in a []) to its left.**`*`** checks for ZERO or more characters to its left, and **`?`** checks for EXACTLY ZERO or ONE charcters to its left.\n",
    "\n",
    "So now we can begin to build up complex serach patterns. Let's say we want to see if someone has entered a valid format for their National Insurance number. Mine is of the general form 'AA nn nn nn A' (2 capitals, space, 2 numbers, space, 2 numbers, space, 2 numbers, space, capital letter so let's use this as a template.\n",
    "\n",
    "Using just what we know, how about - **`r\"[A-Z]{2} \\d\\d \\d\\d \\d\\d [A-Z]\"`**. Not as clever as it could be but will it work? (Note the use of '^' and '$' because I just want this form entered - nothing else).\n"
   ]
  },
  {
   "cell_type": "code",
   "execution_count": 124,
   "metadata": {},
   "outputs": [
    {
     "data": {
      "text/plain": [
       "<re.Match object; span=(0, 13), match='AB 12 34 56 Z'>"
      ]
     },
     "execution_count": 124,
     "metadata": {},
     "output_type": "execute_result"
    }
   ],
   "source": [
    "NI = 'AB 12 34 56 Z'  # Hope that isn't anyone's number :-)\n",
    "ss = r\"^[A-Z]{2} \\d\\d \\d\\d \\d\\d [A-Z]$\"\n",
    "re.search(ss,NI)"
   ]
  },
  {
   "cell_type": "markdown",
   "metadata": {},
   "source": [
    "\n",
    "Well, that works reasonable well (check it out by altering 'NI')\n",
    "\n",
    "Can we improve it? Well. notice that \" \\d\\d\" is repeated 3 times so we might try (notice the delimiting bracktes - this will actually be more useful still later on):\n"
   ]
  },
  {
   "cell_type": "code",
   "execution_count": 125,
   "metadata": {},
   "outputs": [
    {
     "data": {
      "text/plain": [
       "<re.Match object; span=(0, 13), match='AB 12 34 56 Z'>"
      ]
     },
     "execution_count": 125,
     "metadata": {},
     "output_type": "execute_result"
    }
   ],
   "source": [
    "NI = 'AB 12 34 56 Z'\n",
    "ss = r\"^[A-Z]{2}( \\d\\d){3} [A-Z]$\"\n",
    "re.search(ss,NI)"
   ]
  },
  {
   "cell_type": "markdown",
   "metadata": {},
   "source": [
    "## Exercise\n",
    "\n",
    "See whether you can do something similar for a regular UK city telephone number which looks something like **`+44 nnn nnn nnnn`**. "
   ]
  },
  {
   "cell_type": "code",
   "execution_count": 126,
   "metadata": {},
   "outputs": [
    {
     "data": {
      "text/plain": [
       "<re.Match object; span=(0, 16), match='+44 121 123 4567'>"
      ]
     },
     "execution_count": 126,
     "metadata": {},
     "output_type": "execute_result"
    }
   ],
   "source": [
    "stg = '+44 121 123 4567'\n",
    "ss = r\"^\\+44( \\d{3}){2} \\d{4}$\"\n",
    "re.search(ss, stg)"
   ]
  },
  {
   "cell_type": "markdown",
   "metadata": {},
   "source": [
    "\n",
    "Finally for this section on using basic re.search, we'll look at the 'repetition' characters.\n",
    "\n",
    "I want to make sure that there a string is of the form A(a sigle capital letter)aaaaa(any number of lower case alpha characters)nnn(any number of digits)aaaaa folowed by zero or any number of alpha characters. Something like **`Pdbajdg2316hpuns`** or **`Zabc123`**\n"
   ]
  },
  {
   "cell_type": "code",
   "execution_count": 127,
   "metadata": {},
   "outputs": [
    {
     "data": {
      "text/plain": [
       "<re.Match object; span=(0, 11), match='Aqwerty123z'>"
      ]
     },
     "execution_count": 127,
     "metadata": {},
     "output_type": "execute_result"
    }
   ],
   "source": [
    "stg = 'Aqwerty123z'\n",
    "ss = r\"^[A-Z][a-z]+\\d+\\w*$\"\n",
    "re.search(ss, stg)"
   ]
  },
  {
   "cell_type": "markdown",
   "metadata": {},
   "source": [
    "\n",
    "Well, that's nice but as well as checking that the previous exmple is of the correct 'form, I'd also like to know what the numeric part is.\n",
    "\n",
    "As you might expect this is eminently doable. We use the 'group' property of the re.search() function.\n",
    "\n",
    "First you need to 'isolate' the part of the search pattern you want to 'find' using brackets (remeber we said we'd come back to this earlier?). So in the previous example we'll make the search term: **`r\"^[A-Z][a-z]+(\\d+)\\w*$\"`**\n",
    "\n",
    "Now, if the search is successful, we can use .group() to return what's in the succesful search matches. .group(0) will return the whole string. .groups() will return a tuple of the succesful matches.\n",
    "\n",
    "Let's see an example (note we have 2 () delimited search groupings in the search pattern):\n"
   ]
  },
  {
   "cell_type": "code",
   "execution_count": 128,
   "metadata": {},
   "outputs": [
    {
     "name": "stdout",
     "output_type": "stream",
     "text": [
      "Iterating through the matches:\n",
      "123\n",
      "z\n",
      "123\n",
      "\n",
      "Looking at what group() returns\n",
      "Aqwerty123z\n",
      "123\n",
      "z\n"
     ]
    }
   ],
   "source": [
    "stg = 'Aqwerty123z'\n",
    "ss = r\"^[A-Z][a-z]+(\\d+)(\\w*)$\"\n",
    "m=re.search(ss, stg)\n",
    "\n",
    "print('Iterating through the matches:')\n",
    "for val in m.groups():\n",
    "    print(val)\n",
    "print (m.groups()[0])\n",
    "    \n",
    "print('\\nLooking at what group() returns')\n",
    "print(m.group(0))\n",
    "print(m.group(1))\n",
    "print(m.group(2))"
   ]
  },
  {
   "cell_type": "markdown",
   "metadata": {},
   "source": [
    "\n",
    "So, we can find the number embedded in our string by just looking at m.groups()[0] or m.group(1)\n",
    "\n",
    "This can all be practically really useful. Many data files produced by telescopes will have a header section containing embedded information about the observation - and we may need that information. For example the OU radio telescope, ARROW, produces data files that have a header that contains the following line: '#startTimeUTC=2019-10-24T13:05:00.566Z'. How can we abstract the date and time automatically?\n",
    "\n",
    "This does the trick:\n"
   ]
  },
  {
   "cell_type": "code",
   "execution_count": 3,
   "metadata": {},
   "outputs": [
    {
     "name": "stdout",
     "output_type": "stream",
     "text": [
      "2019-10-24\n",
      "13:05:00.566\n"
     ]
    }
   ],
   "source": [
    "stg = '#startTimeUTC=2019-10-24T13:05:00.566Z'\n",
    "ss = r\"^.*UTC=(.*)T(.*)Z$\"\n",
    "m=re.search(ss, stg)\n",
    "\n",
    "for val in m.groups():\n",
    "    print(val)"
   ]
  },
  {
   "cell_type": "code",
   "execution_count": null,
   "metadata": {},
   "outputs": [],
   "source": []
  }
 ],
 "metadata": {
  "kernelspec": {
   "display_name": "Python 3",
   "language": "python",
   "name": "python3"
  },
  "language_info": {
   "codemirror_mode": {
    "name": "ipython",
    "version": 3
   },
   "file_extension": ".py",
   "mimetype": "text/x-python",
   "name": "python",
   "nbconvert_exporter": "python",
   "pygments_lexer": "ipython3",
   "version": "3.7.3"
  }
 },
 "nbformat": 4,
 "nbformat_minor": 2
}
