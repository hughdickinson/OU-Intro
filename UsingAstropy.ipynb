{
 "cells": [
  {
   "cell_type": "markdown",
   "metadata": {},
   "source": [
    "# Astropy\n",
    "\n",
    "In this notebook we will introduce _Astropy_. This is a package that includes numerous helper functions that are aimed primarily at practicing astronomers, but can also be useful in the broader physics environment.\n",
    "\n",
    "We'll look at just a few of the areas where _Astropy_ comes into its own. We'll focus on the following modules:\n",
    "1. **`units`** which allows quick and accurate specification and conversion between scientific units. \n",
    "2. **`constants`** which gives acces to a huge number of physics and engineering constants. \n",
    "3. **`coordinates`** which facilitates transfer from one astronomical coordinate system to another - we'll look at converting between Galactic and Celestial coordinates. \n",
    "\n",
    "As always, we start off by importing the modules and packages. In this case we'll import the entire `astropy.units` and `astropy.constants` modules. However, we'll only import the 3 classes we actually need from the `astropy.coordinates` module, and a single class from `astropy.time`."
   ]
  },
  {
   "cell_type": "code",
   "execution_count": 1,
   "metadata": {},
   "outputs": [],
   "source": [
    "from astropy import constants as const\n",
    "from astropy import units as u\n",
    "from astropy.coordinates import SkyCoord, EarthLocation, AltAz\n",
    "from astropy.time import Time"
   ]
  },
  {
   "cell_type": "markdown",
   "metadata": {},
   "source": [
    "## 1.  Units and Quantities\n",
    "\n",
    "We'll start with **`units`**. As an example to demonstrate the features of this module we'll enter the distance to the Andromeda nebula in light years (2537000) and then convert this to parsecs, metres and astronomical units.\n",
    "\n",
    "There are a large number of useful units defined in `astropy.units`. Visit ['Units and Quantities'](http://docs.astropy.org/en/stable/units/) on the astropy website to get a feel for these.\n",
    "\n",
    "First, we need to wrap our value inside an `astropy.Quantity` object. The easy way to do this is with an expression that multiplies a numeric value by one of the appropriate astropy built-in unit objects. \n",
    "> This approach works with numpy and Pandas data structures as well as single values.\n",
    "\n",
    "Remember, we've imported astropy.units as `u`."
   ]
  },
  {
   "cell_type": "code",
   "execution_count": 2,
   "metadata": {},
   "outputs": [
    {
     "name": "stdout",
     "output_type": "stream",
     "text": [
      "2537000.0 lyr\n",
      "<class 'astropy.units.quantity.Quantity'>\n"
     ]
    }
   ],
   "source": [
    "andromeda_d = 2.537e6*u.lyr\n",
    "\n",
    "print(andromeda_d)\n",
    "# What internal 'type' is this then?\n",
    "print(type(andromeda_d))"
   ]
  },
  {
   "cell_type": "markdown",
   "metadata": {},
   "source": [
    "\n",
    "Now it's easy to convert this `Quantity` to any other unit using its **`.to()`** method and specifying the new unit as an argument. Note that the units are automatically added to the output when a `Quantity` is printed. Here are a few more examples showing how to convert to different units and how the results appear when `print`ed.\n"
   ]
  },
  {
   "cell_type": "code",
   "execution_count": 3,
   "metadata": {},
   "outputs": [
    {
     "name": "stdout",
     "output_type": "stream",
     "text": [
      "In parsecs:  777847.736040036 pc\n",
      "In metres:  2.400187320893749e+22 m\n",
      "In kilometres:  2.4001873208937492e+19 km\n",
      "In Astronomical Units:  160442612562.78357 AU\n"
     ]
    }
   ],
   "source": [
    "print('In parsecs: ', andromeda_d.to(u.pc))\n",
    "print('In metres: ', andromeda_d.to(u.m))\n",
    "print('In kilometres: ', andromeda_d.to(u.km))\n",
    "print('In Astronomical Units: ', andromeda_d.to(u.au))"
   ]
  },
  {
   "cell_type": "markdown",
   "metadata": {},
   "source": [
    "\n",
    "Using _Astropy_ `units` makes it simple to enter a quantity in a form that is easy for humans to understand (like light years), convert to the appropriate SI unit (metres in this case), do the calculations you need and revert back to light years at the end.\n"
   ]
  },
  {
   "cell_type": "markdown",
   "metadata": {},
   "source": [
    "### EXCERCISE 1\n",
    "\n",
    "Work out how to define a pressure of 1013.25 hectopascals (hPa) - this is 'standard' atmospheric pressure - as an `astropy.Quantity` and convert this to pounds per square inch (psi).\n",
    "\n",
    "_Hints:_\n",
    "1.  _A 'hectopascal' is 100 Pascals. You could do the conversion manually but `astropy.units` allows the use of [standard prefixes](http://docs.astropy.org/en/stable/units/standard_units.html)._\n",
    "2. _For the last unit (psi) you'll have to use the 'imperial' module - part of 'units'._\n",
    "3. _The answer should be around 15 psi._ "
   ]
  },
  {
   "cell_type": "code",
   "execution_count": 4,
   "metadata": {},
   "outputs": [],
   "source": [
    "### Write your code here..."
   ]
  },
  {
   "cell_type": "code",
   "execution_count": 5,
   "metadata": {},
   "outputs": [
    {
     "name": "stdout",
     "output_type": "stream",
     "text": [
      "Standard atmospheric pressure is 14.695948572906829 psi\n"
     ]
    }
   ],
   "source": [
    "std_p = 1013.25*u.hPa\n",
    "#print(std_p)\n",
    "#print (type(std_p))\n",
    "\n",
    "imp_std_p = std_p.to(u.imperial.psi)\n",
    "\n",
    "print('Standard atmospheric pressure is', imp_std_p)\n"
   ]
  },
  {
   "cell_type": "markdown",
   "metadata": {},
   "source": [
    "\n",
    "Here's a useful trick! We can use a convenient syntax to print this result with, say, 2 decimal places or 2 significant figures:\n"
   ]
  },
  {
   "cell_type": "code",
   "execution_count": 6,
   "metadata": {},
   "outputs": [
    {
     "name": "stdout",
     "output_type": "stream",
     "text": [
      "Standard atmospheric pressure (2 dp) is 14.70 psi\n",
      "Standard atmospheric pressure (2 sf) is 15 psi\n"
     ]
    }
   ],
   "source": [
    "print(f'Standard atmospheric pressure (2 dp) is {imp_std_p:.2f}')\n",
    "print(f'Standard atmospheric pressure (2 sf) is {imp_std_p:.2g}')"
   ]
  },
  {
   "cell_type": "markdown",
   "metadata": {},
   "source": [
    "\n",
    "## 2. Constants\n",
    "\n",
    "_Astropy_ includes a load of built-in physical constants. Have a look at the [astropy.constants](https://astropy.readthedocs.io/en/stable/constants/index.html) pages for details. Here are some simple examples. \n",
    "> Remember that we imported `astropy.constants` with the name `consts` and note that all _Astropy_ constants are in represented as `Quantity` objects with appropriate units, like those we saw in the previous section."
   ]
  },
  {
   "cell_type": "code",
   "execution_count": 7,
   "metadata": {},
   "outputs": [
    {
     "name": "stdout",
     "output_type": "stream",
     "text": [
      "Speed of light (in a vacuum)  is   Name   = Speed of light in vacuum\n",
      "  Value  = 299792458.0\n",
      "  Uncertainty  = 0.0\n",
      "  Unit  = m / s\n",
      "  Reference = CODATA 2014\n",
      "The gravitation constant is   Name   = Gravitational constant\n",
      "  Value  = 6.67408e-11\n",
      "  Uncertainty  = 3.1e-15\n",
      "  Unit  = m3 / (kg s2)\n",
      "  Reference = CODATA 2014\n",
      "The standard atmosphere is   Name   = Standard atmosphere\n",
      "  Value  = 101325\n",
      "  Uncertainty  = 0.0\n",
      "  Unit  = Pa\n",
      "  Reference = CODATA 2014\n"
     ]
    }
   ],
   "source": [
    "print('Speed of light (in a vacuum)  is', const.c)\n",
    "print('The gravitation constant is', const.G)\n",
    "print('The standard atmosphere is', const.atm)"
   ]
  },
  {
   "cell_type": "markdown",
   "metadata": {},
   "source": [
    "\n",
    "You can retrieve the actual value of a constant by accessing its `value` attribute:\n"
   ]
  },
  {
   "cell_type": "code",
   "execution_count": 8,
   "metadata": {},
   "outputs": [
    {
     "name": "stdout",
     "output_type": "stream",
     "text": [
      "Speed of light (in a vacuum) is 299792458.0\n"
     ]
    }
   ],
   "source": [
    "print('Speed of light (in a vacuum) is', const.c.value)"
   ]
  },
  {
   "cell_type": "markdown",
   "metadata": {},
   "source": [
    "### 2.1. Using Constants in calculations.\n",
    "\n",
    "Let's work out the energy in 1 gram of matter using Einstein's famous equation\n",
    "\n",
    "$$\n",
    "E = mc^{2}\n",
    "$$\n",
    "\n",
    "then express the result in Gigajoules (GJ) "
   ]
  },
  {
   "cell_type": "code",
   "execution_count": 9,
   "metadata": {},
   "outputs": [
    {
     "name": "stdout",
     "output_type": "stream",
     "text": [
      "One gram of matter contains 8.988e+04 GJ\n"
     ]
    }
   ],
   "source": [
    "# Cpompute \n",
    "E = ((1.0*u.g)*(const.c)**2).to('GJ')\n",
    "\n",
    "print(f'One gram of matter contains {E:.3e}')"
   ]
  },
  {
   "cell_type": "markdown",
   "metadata": {},
   "source": [
    "Note the following:\n",
    "\n",
    "1. It's really easy it is to convert between unit magnitudes - just use the appropriate SI prefix.\n",
    "2. The **`.to()`** function accepts strings to specify the target units in addition to `astropy.units` objects.\n",
    "3. We've used that convenient syntax introduced above to express the answer in scientific notation and to 3 decimal places.\n",
    "    "
   ]
  },
  {
   "cell_type": "markdown",
   "metadata": {},
   "source": [
    "### EXCERCISE 2.1\n",
    "\n",
    "Work out the gravitational force betwen the Sun and the Earth using Newtons gravitational equation\n",
    "\n",
    "$$\n",
    "G{m_1m_2} \\over {d^2}\n",
    "$$\n",
    "\n",
    "Express the answer in Mega-Newtons.\n",
    "\n",
    "_Hints:_\n",
    "1. _All the values you need are defined in `astropy.constants`._\n",
    "2. _The distance from Earth to Sun is one Astronomical Unit (AU)._\n"
   ]
  },
  {
   "cell_type": "code",
   "execution_count": 10,
   "metadata": {},
   "outputs": [],
   "source": [
    "### Write your code here..."
   ]
  },
  {
   "cell_type": "code",
   "execution_count": 11,
   "metadata": {},
   "outputs": [
    {
     "name": "stdout",
     "output_type": "stream",
     "text": [
      "The force between the Earth and the Sun is: 3.54e+16 MN\n"
     ]
    }
   ],
   "source": [
    "f = const.G * const.M_earth*const.M_sun/const.au**2\n",
    "fmn = f.to('MN')\n",
    "print(f'The force between the Earth and the Sun is: {fmn:.2e}')"
   ]
  },
  {
   "cell_type": "markdown",
   "metadata": {},
   "source": [
    "## 3. Coordinate systems\n",
    "\n",
    "Now we'll look at how to specify a celestial position in one coordinate system (often refered to as a 'frame'), then convert that position into another coordinate system.\n",
    "\n",
    "The Sun is generally moving with a speed of around 20km/s towards the bright star Vega in the constellation of Lyra. If you're doing the ARROW topic, you'll discover later that when measuring radial velocities for objects within our galaxy, we often need to correct for this Solar motion. This is termed correcting to the Local Standard of Rest (LSR). \n",
    "\n",
    "For this example we're given the position of Vega, in Galactic coordinates (galactic longitude, $l$=55.8585 degrees, and latitude, $b$=23.5489 degrees) but need these in celestial equatorial coordinate values of Right ascension and declination (RA/Dec).\n",
    "\n",
    "First we need to specify the $l$, $b$ position as an _Astropy_ `SkyCoord`, giving the $l$ and $b$ values and also the 'coordinate frame' - in this case we specify a Galactic frame using the argument `frame='galactic'`.\n",
    "\n",
    "There a number of different frames we could convert to (have a look at the _Astropy_  ['Astronomical Coordinate Systems'](http://docs.astropy.org/en/stable/coordinates/) pages) but here the one we need is `'icrs'`.\n"
   ]
  },
  {
   "cell_type": "code",
   "execution_count": 12,
   "metadata": {},
   "outputs": [],
   "source": [
    "vega_lb = SkyCoord(l=55.8585*u.deg, b=23.5489*u.deg, frame='galactic')"
   ]
  },
  {
   "cell_type": "markdown",
   "metadata": {},
   "source": [
    "We've specified the $l$ and $b$ units separately using `astropy.unit`s. We could also use specify the units separately using the optional `unit` argument:"
   ]
  },
  {
   "cell_type": "code",
   "execution_count": 13,
   "metadata": {},
   "outputs": [],
   "source": [
    "vega_lb = SkyCoord(l=55.8585, b=23.5489, frame='galactic', unit='deg')"
   ]
  },
  {
   "cell_type": "markdown",
   "metadata": {},
   "source": [
    "\n",
    "As is often the case, there is more than one way to get these coordinates converted into another **frame** - in our case from `'galactic'` to `'icrs'`.\n",
    "\n",
    "Here are 2 examples:\n"
   ]
  },
  {
   "cell_type": "code",
   "execution_count": 14,
   "metadata": {},
   "outputs": [
    {
     "name": "stdout",
     "output_type": "stream",
     "text": [
      "<SkyCoord (ICRS): (ra, dec) in deg\n",
      "    (270.00003058, 30.00018541)>\n",
      "<SkyCoord (ICRS): (ra, dec) in deg\n",
      "    (270.00003058, 30.00018541)>\n"
     ]
    }
   ],
   "source": [
    "vega_radec = vega_lb.icrs\n",
    "print(vega_radec)\n",
    "\n",
    "vega_radec_icrs = vega_lb.transform_to('icrs')\n",
    "print(vega_radec_icrs)"
   ]
  },
  {
   "cell_type": "markdown",
   "metadata": {},
   "source": [
    "\n",
    "If we import one more class from the `astropy.coordinates` module, then the second form gives you much more control. Here we'll use another coordinate frame, FK5. This is similar to ICRS but allows you to change the observational 'epoch' (ICRS uses an epoch fixed at January 1st 2000). As an example, in the next cell we compute where Vega would have appeared in 1975. Note the slight offset from its current ICRS coordinate.\n",
    "    "
   ]
  },
  {
   "cell_type": "code",
   "execution_count": 15,
   "metadata": {},
   "outputs": [
    {
     "name": "stdout",
     "output_type": "stream",
     "text": [
      "<SkyCoord (FK5: equinox=J1975.000): (ra, dec) in deg\n",
      "    (269.76013133, 30.00048048)>\n"
     ]
    }
   ],
   "source": [
    "from astropy.coordinates import FK5\n",
    "vega_radec_fk = vega_lb.transform_to(FK5(equinox='J1975'))\n",
    "print(vega_radec_fk)"
   ]
  },
  {
   "cell_type": "markdown",
   "metadata": {},
   "source": [
    "\n",
    "We can easily get the RA and Dec values by accessing the `ra` and `dec` attributes of the `SkyCoord` object.\n",
    "    "
   ]
  },
  {
   "cell_type": "code",
   "execution_count": 16,
   "metadata": {},
   "outputs": [
    {
     "name": "stdout",
     "output_type": "stream",
     "text": [
      "RA is 270d00m00.1101s\n",
      "RA, in degress, is 270.00003057723364 deg2\n"
     ]
    }
   ],
   "source": [
    "print('RA is', vega_radec.ra)\n",
    "print('RA, in degress, is', (vega_radec.ra)*u.deg)"
   ]
  },
  {
   "cell_type": "markdown",
   "metadata": {},
   "source": [
    "### EXERCISE 3\n",
    "\n",
    "What's the RA/Dec of the centre of the Galaxy? We'll leave this up to you to complete.\n",
    "\n",
    "_Hint: What are the $l$ and $b$ coordinates of the Galactic centre?_\n"
   ]
  },
  {
   "cell_type": "code",
   "execution_count": 17,
   "metadata": {},
   "outputs": [],
   "source": [
    "### Write your code here..."
   ]
  },
  {
   "cell_type": "markdown",
   "metadata": {},
   "source": [
    "\n",
    "### 3.1 Doing calculations with coordinates\n",
    "\n",
    "_Astropy_ also includes functions for performing spatial and angular calculations. Consider the Large and Small Magellanic clouds. These are small, irregular galaxies in our Local Group. They are named for their appearance as vague smudges of light in the Southern skies that somewhat like dimly illuminated rain clouds. Reputedly, Magellan (the great 16th century Portuguese explorer) thought that's what they were.\n",
    "\n",
    "Anyway, the Large Magellanic Cloud (LMC) lies 163 kly away with RA=05h23m34.5s and Dec=-69:45:22 The Small Magellanic Cloud (SMC) is further away. It lies at a distance of 200kly and has celestial coordinates RA=00h52m44.8s and Dec=-72:49:43.\n",
    "\n",
    "How far apart are the Magellanic Clouds - in angular terms as seen from the Earth and in terms of actual physical distance?\n",
    "\n",
    "To compute the answer to this question we'll introduce some new ways of specifying coordinates and  distances, and show how to perform the required calculations.\n",
    "\n",
    "First, let's construct two **three-dimensional** `SkyCoord` objects representing the Magellanic Clouds. To produce a 3D coordinate, we pass `Quantities` to represent the distances using the optional `distance` argument."
   ]
  },
  {
   "cell_type": "code",
   "execution_count": 18,
   "metadata": {},
   "outputs": [],
   "source": [
    "lmc = SkyCoord('05h23m34.5s', '-69d45m22s', distance = 163*u.klyr)\n",
    "smc = SkyCoord('00h52m44.8s', '-72d49m43s', distance = 200*u.klyr)"
   ]
  },
  {
   "cell_type": "markdown",
   "metadata": {},
   "source": [
    "Now we can use the `separation()` method of `SkyCoord` to compute the **angular** distance between the clouds and the `separation_3d()` method to compute the **physical** distance."
   ]
  },
  {
   "cell_type": "code",
   "execution_count": 19,
   "metadata": {},
   "outputs": [
    {
     "name": "stdout",
     "output_type": "stream",
     "text": [
      "The LMC is separated from the SMC by 74.81055774428279 klyr\n",
      "and by 20d44m46.0264s on the sky\n"
     ]
    }
   ],
   "source": [
    "print('The LMC is separated from the SMC by', lmc.separation_3d(smc))\n",
    "print('and by', lmc.separation(smc), 'on the sky')"
   ]
  },
  {
   "cell_type": "markdown",
   "metadata": {},
   "source": [
    "### EXERCISE 3.1\n",
    "\n",
    "Look up the stars Rigel and Betelgeuse (Opposite sides of the Orion constellation - Wikipedia will give you all the information you need) and compute how far apart they are in space. \n",
    "\n",
    "At 0.9 times the speed of light, how long would it take to get from one to the other (ignore any relativistic effects).\n"
   ]
  },
  {
   "cell_type": "code",
   "execution_count": 20,
   "metadata": {},
   "outputs": [],
   "source": [
    "### Write your code here..."
   ]
  },
  {
   "cell_type": "markdown",
   "metadata": {},
   "source": [
    "\n",
    "## 4 Earth location coordinates\n",
    "\n",
    "Most observations will be made using telescopes based on the Earth. For these instruments, we are interested in the direction in which they are pointing. This direction is specified by the two angles denoted Altitude (Alt) and Azimuth (Az). Remember that because the Earth moves during an observation, the Alt and Az values will be continually changing, so it's important to know the time range over which the observation occurred.\n",
    "\n",
    "How do we specify or calculate these values? We'll examine how to specify the location of the PIRATE and ARROW telescopes and how we can define an observing time of 21h58m00s (UTC) on 20st March 2019\n",
    "\n",
    "* ARROW is located at 52.0244N, 0.70639W, at an altitude of 115m. \n",
    "* PIRATE is located at 28.3N, 16.5097W, at an altitude of 2390m.\n"
   ]
  },
  {
   "cell_type": "markdown",
   "metadata": {},
   "source": [
    "###  4.1 Time\n",
    "\n",
    "Definint an observation time is pretty easy to do by concatenating appropriately formatted date and time strings and passing the result to the [`astropy.Time`](http://docs.astropy.org/en/stable/time/) class constructor. \n",
    "\n",
    "> Note: The `format='isot'` argument indicates the intended format of the input string while `scale='utc'` notes the time scale. If the string format is unambiguous these parameters can be left out.\n"
   ]
  },
  {
   "cell_type": "code",
   "execution_count": 21,
   "metadata": {},
   "outputs": [
    {
     "name": "stdout",
     "output_type": "stream",
     "text": [
      "2019-03-20T21:58:00.000\n"
     ]
    }
   ],
   "source": [
    "date_str = '2019-03-20'\n",
    "time_str = '21:58:00.000' \n",
    "# The T character is required by the ISOT format.\n",
    "datetime_str = date_str + 'T' + time_str\n",
    "obs_time = Time(datetime_str, format='isot', scale='utc')\n",
    "print(obs_time)"
   ]
  },
  {
   "cell_type": "markdown",
   "metadata": {},
   "source": [
    "### 4.2 Location\n",
    "\n",
    "Locations on the Earth can be specified using the `astropy.coordinates.EarthLocation` class. The `EarthLocation` constructor accepts three arguments corresponding to the latitude (`lat`), longitude (`lon`) and altitude (`height`) of the coordinate.\n",
    "\n",
    "> Note, a negative sign prefixing  a coordinate indicates West (or South).\n",
    "\n",
    "> Note the use of '`\\`' here to indicate that the command continues on the next line. This is not obligatory - we could just use a long single line - but it does make the code easier to read."
   ]
  },
  {
   "cell_type": "code",
   "execution_count": 22,
   "metadata": {},
   "outputs": [],
   "source": [
    "arrow = EarthLocation(lat=52.024444*u.deg, \\\n",
    "                      lon=-0.706388*u.deg, \\\n",
    "                      height=114*u.m)\n",
    "\n",
    "pirate = EarthLocation(lat=28.3*u.deg, \\\n",
    "                       lon=-16.5097*u.deg, \\\n",
    "                       height=2390*u.m)"
   ]
  },
  {
   "cell_type": "markdown",
   "metadata": {},
   "source": [
    "### 4.3 Frames\n",
    "\n",
    "Earlier, when converting coordinate systems we used differing frames - GALACTIC, ICRS, FK5. These were indicated by simple strings, for example `'icrs'` which are recognised by _Astropy_. If we want to get to an Alt/Az frame we need to provide further information - an simple Python 'string' cannot know the date, the time or the location of our telescope. This information, encapsulated in `EarthLocation` and `Time` objects, can be used to construct a `astropy.coordinates.AltAz` class.\n",
    "\n",
    "Here's an example using the time and locations we described above:\n"
   ]
  },
  {
   "cell_type": "code",
   "execution_count": 23,
   "metadata": {
    "scrolled": true
   },
   "outputs": [],
   "source": [
    "obs_frame = AltAz(obstime=obs_time , location=arrow )"
   ]
  },
  {
   "cell_type": "markdown",
   "metadata": {},
   "source": [
    "\n",
    "Now we can convert from our previously defined Vega coordinates in the ICRS frame (`vega_radec_icrs`) to our new, ARROW-specific `AltAz` frame using the **`transform_to()`** method. The code in the following cell does just that.\n"
   ]
  },
  {
   "cell_type": "code",
   "execution_count": 24,
   "metadata": {},
   "outputs": [],
   "source": [
    "obs_altaz = vega_radec_icrs.transform_to(obs_frame)"
   ]
  },
  {
   "cell_type": "markdown",
   "metadata": {},
   "source": [
    "\n",
    "You can retrieve and print the altitude and azimuth values (in degrees) like this:\n"
   ]
  },
  {
   "cell_type": "code",
   "execution_count": 25,
   "metadata": {},
   "outputs": [
    {
     "name": "stdout",
     "output_type": "stream",
     "text": [
      "Altitude is 5.8495137194389635 degrees\n",
      "Azimuth is 46.724733745586 degrees\n"
     ]
    }
   ],
   "source": [
    "print ('Altitude is',obs_altaz.alt.deg, 'degrees')\n",
    "print ('Azimuth is',obs_altaz.az.deg, 'degrees')"
   ]
  },
  {
   "cell_type": "markdown",
   "metadata": {},
   "source": [
    "### Exercise 4.3\n",
    "\n",
    "Work out what 'Alt' values you would have needed to point a telescope located at the  PIRATE location towards Polaris, the Pole Star, (well, one of them anyway) at 20h17m00s (UTC) on 20th July 1969. (Any guesses as to why this date/time is interesting?).\n",
    "\n",
    "Perform the same calculation (assume the same observation tme and telescope location) for the Large Magellanic Cloud using the celestial coordinate information we encountered earlier.\n",
    "\n",
    "What does this tell you about the visibility of the two targets at the time - what does a negative 'Alt' value indicate?\n",
    "\n",
    "_Hints:_ \n",
    "1. _This is pretty much the same as our previous coordinate conversions. Here you will be going from RA/Dec to AltAz and this will, as before, require a location and time as extra information._\n",
    "2. _As earlier, use the .transform_to() form - but instead of a string, you'll need to pass it more complete 'frame' information._\n"
   ]
  },
  {
   "cell_type": "code",
   "execution_count": 34,
   "metadata": {},
   "outputs": [
    {
     "name": "stdout",
     "output_type": "stream",
     "text": [
      "At 20:17:00 on 20 Jul 1969, at the ARROW telescope location...\n",
      "The altitude of Polaris was 27.449 degrees\n",
      "The altitude of the LMC was -44.017 degrees\n"
     ]
    }
   ],
   "source": [
    "pol=SkyCoord('02h30m41s', '89d15m38s')\n",
    "\n",
    "p_str='1969-07-20T20:17:00'\n",
    "p_time = Time(p_str, format='isot', scale='utc')\n",
    "p_frame=AltAz(obstime=p_time, location=pirate)\n",
    "\n",
    "p_altaz=pol.transform_to(p_frame)\n",
    "lmc_altaz=lmc.transform_to(p_frame) #lmc SkyCoord was calculates earlier\n",
    "\n",
    "print('At {}, at the ARROW telescope location...'.format(p_time.strftime('%H:%M:%S on %d %b %Y')))\n",
    "print(f'The altitude of Polaris was {p_altaz.alt.deg:.3f} degrees')\n",
    "print(f'The altitude of the LMC was {lmc_altaz.alt.deg:.3f} degrees')"
   ]
  }
 ],
 "metadata": {
  "kernelspec": {
   "display_name": "Python 3",
   "language": "python",
   "name": "python3"
  },
  "language_info": {
   "codemirror_mode": {
    "name": "ipython",
    "version": 3
   },
   "file_extension": ".py",
   "mimetype": "text/x-python",
   "name": "python",
   "nbconvert_exporter": "python",
   "pygments_lexer": "ipython3",
   "version": "3.7.4"
  }
 },
 "nbformat": 4,
 "nbformat_minor": 4
}
