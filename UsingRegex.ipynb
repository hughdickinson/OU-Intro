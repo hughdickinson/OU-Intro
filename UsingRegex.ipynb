{
 "cells": [
  {
   "cell_type": "markdown",
   "metadata": {},
   "source": [
    "# Regular Expressions - regex\n",
    "\n",
    "This notebook explores the use of  **_regular expressions_**, which are a powerful syntax for describing and working with character strings in _Python_. \n",
    "\n",
    "Perhaps the simplest use for regular expressions is to check whether a string of characters contains a particular sub-string. For example, `'Hello World'` contains the sub-string `'llo'` but not `'Earth'`. \n",
    "\n",
    "However, regular expressions are much more powerful than this simple example. They allow strings to be checked for one or more sub-strings matching some a specific pattern. For example you could define a single regular expression that would match a string containing anywhere between one and three capital letters followed by exactly 5 numbers. Even this example only scratches the surface of the patterns that can be descrived using regular expressions. As first glance the regular expression syntax can seem impenetrably complex but don't worry, we'll go through things step-by-step and introduce some of their useful features.\n",
    "\n",
    "Regular expressions are a common implementation feature of many different programming languages of which _Python_ is only one. Learning the basics will almost certainly pay dividends even if you end up leaving _Python_ behind.\n",
    "\n",
    "_Python_ implements the regular expressions via the `re` module. There are 3 main functions that you need to know about - **`re.search()`**, **`re.match()`**, and **`re.compile()`**. Actually, **`re.match()`** and **`re.search()`** are only subtly different. The **`re.match()`** function is more conservative will only succeed if the regular expression pattern matches the beginning of a line and won't consider multiple lines separated by a `'\\n'` character. For this reason we'll concentrate on **`re.search()`**, which will succeed if the regular expression pattern matches **anywhere** in a string, even if that string contains multiple lines.\n",
    "\n",
    "Both **`re.search()`** and **`re.match()`** require a \"_template_\" search pattern to be specified using a string containing regular expression syntax. In our `'Hello World'` example above this template would simply be the string of characters we are searching for **`'llo'`**.\n",
    "\n",
    "Let's get started by importing the `re` module."
   ]
  },
  {
   "cell_type": "code",
   "execution_count": null,
   "metadata": {},
   "outputs": [],
   "source": [
    "import re  # Because 're' is so short we don't bother with an alias!"
   ]
  },
  {
   "cell_type": "markdown",
   "metadata": {},
   "source": [
    "## 1. Using basic `re.search()`\n",
    "\n",
    "To use **`re.search()`**, we pass two arguments:\n",
    "\n",
    "1. a search pattern.\n",
    "2. a string to search. \n",
    "\n",
    "If the function finds a match it will return a `re.Match` _object_. If no match is found, **`re.search()`** returns the special _Python_ `None` value. You can check whether a match object has been returned using a simple **`if`** statement.\n"
   ]
  },
  {
   "cell_type": "code",
   "execution_count": null,
   "metadata": {},
   "outputs": [],
   "source": [
    "search_string = r\"llo\"\n",
    "full_string = \"Hello World\"\n",
    "\n",
    "if re.search(search_string, full_string):\n",
    "    print(\"Hooray! - got a llo\")\n",
    "else:\n",
    "    print(\"Boo. No llo\")"
   ]
  },
  {
   "cell_type": "code",
   "execution_count": null,
   "metadata": {},
   "outputs": [],
   "source": [
    "search_string = r\"Earth\"\n",
    "full_string = \"Hello World\"\n",
    "\n",
    "if re.search(search_string, full_string):\n",
    "    print(\"Hooray! - got a Earth\")\n",
    "else:\n",
    "    print(\"Boo. No Earth\")"
   ]
  },
  {
   "cell_type": "markdown",
   "metadata": {},
   "source": [
    "Did you notice how we prefixed both of the search pattern strings with an an `r`? Doing this defines a \"_raw_\" string in _Python_. We'll explain why this is necessary later in the notebook."
   ]
  },
  {
   "cell_type": "markdown",
   "metadata": {},
   "source": [
    "### EXERCISE 1\n",
    "\n",
    "Write a small program were you input a simple string and then search to see if the sentence \"The quick brown fox jumps over the lazy dogs\" contains it. Put it in a loop if you want to keep trying.\n"
   ]
  },
  {
   "cell_type": "code",
   "execution_count": null,
   "metadata": {},
   "outputs": [],
   "source": [
    "## Write your code here..."
   ]
  },
  {
   "cell_type": "code",
   "execution_count": null,
   "metadata": {},
   "outputs": [],
   "source": [
    "ss = input(\"Please enter a search term \")\n",
    "long_string = \"The quick brown fox jumps over the lazy dogs\"\n",
    "if re.search(ss, long_string):\n",
    "    print(\"It is there!\")\n",
    "else:\n",
    "    print(\"Sorry, no cigar\")"
   ]
  },
  {
   "cell_type": "markdown",
   "metadata": {},
   "source": [
    "## 2. Matching generic patterns\n",
    "\n",
    "Hopefully, everything so far has seemed very straightforward. Now let's use some of the features of regular expressions to search for character sequences that match a more generic _pattern_ rather than a fixed string of characters. This is where regular expressions become _slightly_ more complicated, but **much** more powerful!\n",
    "\n",
    "Firstly, let's look at how to search for a **single** character that's within a specified \"_range_\". This is done using hyphen separated character pairs enclosed within square brackets. This is probably best illustrated using some concrete examples.\n",
    "\n",
    "* For practical purposes, you can assume that ranges of letters are interpreted assuming alphabetic order, so **`r\"[a-z]\"`** will match all the lower case letters from `a` to `z`. \n",
    "* Similarly, **`r\"[A-Z]\"`** will match all the upper case letters from `A` to `Z`.\n",
    "* Multiple ranges can be specified within the same square brackets, so  **`r\"[A-Za-z]\"`** will match upper and lower case leters in the Roman alphabet. \n",
    "* **`r\"[abdf]\"`** will match any of the lower case letters `a`, `b`, `d`, or `f`. \n",
    "* Ranges of digits can also be represented. For example **`r\"[3-8]\"`** matches any integer between 3 and 8, inclusive.\n",
    "\n",
    "The next two code cells demonstrate the range syntax in action. The first cell demonstrates what happens when the search fails to find a match and **`re.search()`** returns `None`."
   ]
  },
  {
   "cell_type": "code",
   "execution_count": null,
   "metadata": {},
   "outputs": [],
   "source": [
    "ss = r\"[ahukl]\"\n",
    "result = re.search(ss, \"qwerty\")\n",
    "print(result)"
   ]
  },
  {
   "cell_type": "markdown",
   "metadata": {},
   "source": [
    "Now, let's try an example that matches successfully. It returns a `re.Match` object."
   ]
  },
  {
   "cell_type": "code",
   "execution_count": null,
   "metadata": {},
   "outputs": [],
   "source": [
    "ss = r\"[ahukl]\"\n",
    "result = re.search(ss, \"asdfg\")\n",
    "print(result)"
   ]
  },
  {
   "cell_type": "markdown",
   "metadata": {},
   "source": [
    "### 2.1 Special characters\n",
    "\n",
    "The range syntax can be used to matches anything inside it but there are some shortcuts. For example, **`\"r\\d\"`** is equivalent to `\"[0-9]\"` and matches any digit, while **`\\w`** matches any alphanumeric character i.e. **`r\"[0-9a-zA-Z]\"`**, as well as underscores `_`. The full stop **`.'`** matches any single character except the newline character, and **`\\s`** will match any **single** whitespace character including space (` `), newline (`\\n`), tab (`\\t`) and carriage return (`\\r`).\n",
    "\n",
    "#### 2.1.1 Raw strings revisited\n",
    "\n",
    "Earlier in this notebook, we noted that pattern strings supplied to **`re.search()`** and **`re.match()`** should be coverted into _raw_ strings by prefixing them with `r`. Raw _Python_ strings are used to prevent the _Python_ interpreter from interpreting and replacing or removing any `\\` characters or special characters in the pattern string that are actually part of the regular expression syntax. Depending on the context, it can be difficult to predict exactly how _Python_ will handle special characters that it finds within ordinary strings. For this reason, when defining regular expressions always use _raw_ strings. As a concrete example you should not use **`'\\d\\d'`** to define a pattern that would match two digits in successsion. Instead, always use **`r'\\d\\d'`**.\n"
   ]
  },
  {
   "cell_type": "markdown",
   "metadata": {},
   "source": [
    "### 2.2 Matching multiple characters\n",
    "\n",
    "Flexibly matching individual letters or numbers isn't particularly useful. In this section, we'll examine how to write regular expressions that match _sequences_ containing multiple characters. For example, you might want to match a string that conatins a _specific number_ of digits in a cluster - strings like `'1224'`, `'892301'` or even `'1'`. To write a regular expression that matches a specific number of characters in a row, we start with an expression that would match a single character (like `'\\d'`) and add a suppix to specify the character count. The suffix consists of the required number enclosed in brace (`{}`) characters. \n",
    "\n",
    "As a concrete example, to match 3 digits we would use **`'[0-9]{3}'`** (or **`'\\d{3}'`**). These expressions will not match `3` or `95`, but they _will_ match `735`. \n",
    "\n",
    "> Be warned though! Both of these expressions will (when used with **`re.search()`** match any string that includes a sequence of three digits as a substring. This means that `7351` will also match because any 4 digit string also contains a of 3 digit substring! It is 3 digits and we'll see this later. \n",
    "\n",
    "The next two code cells show examples of the multiple character match syntax. The first example does not yield a match, while the second does. Note that we still use _raw_ strings to define our regular expressions. "
   ]
  },
  {
   "cell_type": "code",
   "execution_count": null,
   "metadata": {},
   "outputs": [],
   "source": [
    "ss = r\"\\d{3}\"\n",
    "result = re.search(ss, \"qw13hdf\")\n",
    "print(result)"
   ]
  },
  {
   "cell_type": "markdown",
   "metadata": {},
   "source": [
    "Doesn't match but the following will:"
   ]
  },
  {
   "cell_type": "code",
   "execution_count": null,
   "metadata": {},
   "outputs": [],
   "source": [
    "ss = r\"\\d{3}\"\n",
    "result = re.search(ss, \"qw129hdf\")\n",
    "print(result)"
   ]
  },
  {
   "cell_type": "markdown",
   "metadata": {},
   "source": [
    "### 2.2 Matching at specific positions\n",
    "\n",
    "The regular expression syntax allows you to specify the position in the target string to search for a match. To do this you can use _positional_ characters withing your pattern definition. Some commonly used positional characters include:\n",
    "* **`'^'`**, which matches the start of the string.\n",
    "* **`'$'`**, which matches the end of the string.\n",
    "* **`'\\b'`**, which matches the beginning or end of a word.\n",
    "\n",
    "The next two code cells show example uses of the `^` character to match a sequence of three digits at the beginning of the target string. The first example does not yield a match, while the second does.\n"
   ]
  },
  {
   "cell_type": "code",
   "execution_count": null,
   "metadata": {},
   "outputs": [],
   "source": [
    "ss = r\"^\\d{3}\"\n",
    "re.search(ss, \"qw129hdf\")"
   ]
  },
  {
   "cell_type": "markdown",
   "metadata": {},
   "source": [
    "\n",
    "Doesn't match but the following will:\n"
   ]
  },
  {
   "cell_type": "code",
   "execution_count": null,
   "metadata": {},
   "outputs": [],
   "source": [
    "ss = r\"^\\d{3}\"\n",
    "re.search(ss, \"129qwhdf\")"
   ]
  },
  {
   "cell_type": "markdown",
   "metadata": {},
   "source": [
    "### 2.3 Indefinite repetition\n",
    "\n",
    "The regular expression syntax are also _wildcard_-like repetition characters. \n",
    "\n",
    "* **`+`** will match with **_one_ or more** characters that match the pattern immediately to its left.\n",
    "* **`*`** checks for **_zero_ or more** characters that match the pattern immediately to its left.\n",
    "* **`?`** checks for **exactly _zero_ or _one_** characters that match the pattern immediately to its left.\n",
    "\n",
    "We have now covered enough material to be able to start building up complex search patterns. What if we wanted to verify that someone has entered a valid format for their National Insurance number. Mine is of the general form 'AA nn nn nn A' (2 capitals, space, 2 numbers, space, 2 numbers, space, 2 numbers, space, capital letter). Let's write a regular expression that matches this template.\n",
    "\n",
    "Using the syntax we've learned so far, we could write the following expression.\n",
    "```python\n",
    "r\"^[A-Z]{2} \\d\\d \\d\\d \\d\\d [A-Z]$\"\n",
    "```\n",
    "\n",
    "With more advanced syntax, we could write a more compact expression, but this does the job!\n",
    "\n",
    "> Note that we have used `^` and `$` to make sure that there are no characters before or after the pattern we're looking for.\n"
   ]
  },
  {
   "cell_type": "code",
   "execution_count": null,
   "metadata": {},
   "outputs": [],
   "source": [
    "NI = \"AB 12 34 56 Z\"  # Hope that isn't anyone's number :-)\n",
    "ss = r\"^[A-Z]{2} \\d\\d \\d\\d \\d\\d [A-Z]$\"\n",
    "result = re.search(ss, NI)\n",
    "print(result)"
   ]
  },
  {
   "cell_type": "markdown",
   "metadata": {},
   "source": [
    "\n",
    "That works! Note that printing the `re.Match` object informs us that the matching string was `'AB 12 34 56 Z'`.\n",
    "\n",
    "How could we write the expression in a more compact form? Notice that the  string `\" \\d\\d\"` is repeated 3 times. We can avoid this repetition by using the applying the suffix `{3}` to a subsection of the overall pattern. We isolate the required subsection using _parentheses_ i.e. `\"( \\d\\d)\"`.\n",
    "\n",
    "Run the next code cell to see our new expression in action. "
   ]
  },
  {
   "cell_type": "code",
   "execution_count": null,
   "metadata": {},
   "outputs": [],
   "source": [
    "NI = \"AB 12 34 56 Z\"\n",
    "ss = r\"^[A-Z]{2}( \\d\\d){3} [A-Z]$\"\n",
    "result = re.search(ss, NI)\n",
    "print(result)"
   ]
  },
  {
   "cell_type": "markdown",
   "metadata": {},
   "source": [
    "### EXCERCISE 2\n",
    "\n",
    "See whether you can do something similar for a regular UK city telephone number which looks something like **`+44 nnn nnn nnnn`**. "
   ]
  },
  {
   "cell_type": "code",
   "execution_count": null,
   "metadata": {},
   "outputs": [],
   "source": [
    "## Write your code here..."
   ]
  },
  {
   "cell_type": "code",
   "execution_count": null,
   "metadata": {},
   "outputs": [],
   "source": [
    "stg = \"+44 121 123 4567\"\n",
    "ss = r\"^\\+44( \\d{3}){2} \\d{4}$\"\n",
    "result = re.search(ss, stg)\n",
    "print(result)"
   ]
  },
  {
   "cell_type": "markdown",
   "metadata": {},
   "source": [
    "\n",
    "Now, try to write regular expression that matches a string that contains the following, in order:\n",
    "\n",
    "1. A single capital letter e.g. `A`.\n",
    "2. Any number of lower case alpha characters e.g. `aaaaa`.\n",
    "3. Any number of digits e.g. `12345`.\n",
    "4. Zero or more of alphanumeric characters e.g. `abZ3s0d`. \n",
    "\n",
    "Matching examples might include **`Pdbajdg2316hpuns`** or **`Zabc123`**.\n"
   ]
  },
  {
   "cell_type": "code",
   "execution_count": null,
   "metadata": {},
   "outputs": [],
   "source": [
    "stg = \"Aqwerty123z\"\n",
    "ss = r\"^[A-Z][a-z]+\\d+\\w*$\"\n",
    "result = re.search(ss, stg)\n",
    "print(result)"
   ]
  },
  {
   "cell_type": "markdown",
   "metadata": {},
   "source": [
    "## 3. Groups\n",
    "\n",
    "Before the exercise, we wrote regular expressions to verify that input strings were formatted correctly.  Now, we'll show how to extract specific components from the matched part of the string. For example, what if you only needed the numeric parts of the matched string?\n",
    "\n",
    "By now, it probably won't surprise you to find out that this can also be accomplished using regular expressions. In _Python_ we do this by adding some extra syntax to our regular expression and using the **`group()`** method of the `re.Match` object returned by the **`re.search()`** function.\n",
    "\n",
    "We _identify_ the part of the search pattern that we want to _isolate_ using parentheses. We actually used this syntax earlier to repeat a sub-pattern of a regular expression. Let's write a similar expression to demonstrate how groups work in regular expressions. Can you unravel what the following pattern matches?\n",
    "\n",
    "```python\n",
    "stg = \"Aqwerty123z\"\n",
    "ss = r\"^[A-Z][a-z]+(\\d+)(\\w*)$\"\n",
    "result = re.search(ss, stg)\n",
    "```\n",
    "\n",
    "> Note we have 2 parenthesised search groupings (`(\\d+)` and `(\\w*)`) in the search pattern.\n",
    "\n",
    "Now, if the target string matches the search pattern, we can use **`.group()`** to return the parts of the match that correspond with the parenthesised sub-expressions. \n",
    "\n",
    "* **`result.group(0)`** will return the whole string. \n",
    "* **`result.groups()`** will return a tuple of the succesful matches, which you can iterate over.\n",
    "\n",
    "Try running the next code cell to see grouping in action."
   ]
  },
  {
   "cell_type": "code",
   "execution_count": null,
   "metadata": {},
   "outputs": [],
   "source": [
    "stg = \"Aqwerty123z\"\n",
    "ss = r\"^[A-Z][a-z]+(\\d+)(\\w*)$\"\n",
    "m = re.search(ss, stg)\n",
    "\n",
    "print(\"Iterating through the matches:\")\n",
    "for val in m.groups():\n",
    "    print(val)\n",
    "print(m.groups()[0])\n",
    "\n",
    "print(\"\\nLooking at what group() returns\")\n",
    "print(m.group(0))\n",
    "print(m.group(1))\n",
    "print(m.group(2))"
   ]
  },
  {
   "cell_type": "markdown",
   "metadata": {},
   "source": [
    "### 3.1 An example from astronomy!\n",
    "\n",
    "The ability to isolate numerical substrings in textual data can really useful in the context of astronomy. Many data files produced by telescopes will have a header section containing embedded information about the observation - and we may need that information. \n",
    "\n",
    "For example, the OU radio telescope, ARROW, produces data files with a _header_ that contains the following line: \n",
    "\n",
    "    #startTimeUTC=2019-10-24T13:05:00.566Z\n",
    "    \n",
    "How can we abstract the date and time automatically using regular expressions?\n",
    "\n",
    "The code in the next cell demonstrates one approach. Can you improve on it?"
   ]
  },
  {
   "cell_type": "code",
   "execution_count": null,
   "metadata": {},
   "outputs": [],
   "source": [
    "stg = \"#startTimeUTC=2019-10-24T13:05:00.566Z\"\n",
    "ss = r\"^.*UTC=(.*)T(.*)Z$\"\n",
    "m = re.search(ss, stg)\n",
    "\n",
    "for val in m.groups():\n",
    "    print(val)"
   ]
  }
 ],
 "metadata": {
  "kernelspec": {
   "display_name": "Python 3",
   "language": "python",
   "name": "python3"
  },
  "language_info": {
   "codemirror_mode": {
    "name": "ipython",
    "version": 3
   },
   "file_extension": ".py",
   "mimetype": "text/x-python",
   "name": "python",
   "nbconvert_exporter": "python",
   "pygments_lexer": "ipython3",
   "version": "3.7.4"
  }
 },
 "nbformat": 4,
 "nbformat_minor": 4
}
