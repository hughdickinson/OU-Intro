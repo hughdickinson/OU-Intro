{
 "cells": [
  {
   "cell_type": "markdown",
   "metadata": {},
   "source": [
    "# Astropy\n",
    "\n",
    "In this notebook we will introduce Astopy. This is a module that has numerous helper functions aimed at practicing astronomers - but is also useful in the broader physics environment.\n",
    "\n",
    "We'll look at just a few of the areas where Astropy comes into its own - **units** which allows quick and accurate specification and conversion between scientific units and **Coordinates** which facilitates transfer from one coordinate system to another - we'll look at converting between Galactic and Celestial coordinates. Initially we'll also look at the **constants** abilities.\n",
    "\n",
    "As always we start off by importing the modules - in this case we only import 3 functions from the astropy.coordinates package, but all the units and constants packages.\n"
   ]
  },
  {
   "cell_type": "code",
   "execution_count": 1,
   "metadata": {},
   "outputs": [],
   "source": [
    "from astropy import constants as const\n",
    "from astropy import units as u\n",
    "from astropy.coordinates import SkyCoord, EarthLocation, AltAz\n",
    "from astropy.time import Time"
   ]
  },
  {
   "cell_type": "markdown",
   "metadata": {},
   "source": [
    "## 1.  Units and Quantity\n",
    "\n",
    "We'll start with 'units'. As an example to demonstrate the features this module has we'll enter the distance to the Andromeda nebula in light years (2537000) and then convert this to parsecs, metres and astronomical units.\n",
    "\n",
    "There are a large number of useful units defined in astropy.units. Go to the astropy ['Units and Quantities'](http://docs.astropy.org/en/stable/units/) to get a feel for these.\n",
    "\n",
    "First, we need to enter our value as an astropy 'Quantity'. The easy way to do this is to enter a nummeric value multiplied by one of the appropriate astropy built-in units. (This works with numpy arrays as well as scalars.) Remember, we've imported astropy.units as 'u'.\n",
    "\n"
   ]
  },
  {
   "cell_type": "code",
   "execution_count": 2,
   "metadata": {},
   "outputs": [
    {
     "name": "stdout",
     "output_type": "stream",
     "text": [
      "2537000.0 lyr\n",
      "<class 'astropy.units.quantity.Quantity'>\n"
     ]
    }
   ],
   "source": [
    "andromeda_d = 2.537e6*u.lyr\n",
    "\n",
    "print(andromeda_d)\n",
    "# What internal 'type' is this then?\n",
    "print(type(andromeda_d))"
   ]
  },
  {
   "cell_type": "markdown",
   "metadata": {},
   "source": [
    "\n",
    "Now it's easy to see this in any other unit using the '.to' method and specifying the new unit in brackets. Easiest to see by example:\n"
   ]
  },
  {
   "cell_type": "code",
   "execution_count": 3,
   "metadata": {},
   "outputs": [
    {
     "name": "stdout",
     "output_type": "stream",
     "text": [
      "In parsecs:  777847.736040036 pc\n",
      "In metres:  2.400187320893749e+22 m\n",
      "In kilometres:  2.4001873208937492e+19 km\n",
      "In Astronomical Units:  160442612562.78357 AU\n"
     ]
    }
   ],
   "source": [
    "print('In parsecs: ', andromeda_d.to(u.pc))\n",
    "print('In metres: ', andromeda_d.to(u.m))\n",
    "print('In kilometres: ', andromeda_d.to(u.km))\n",
    "print('In Astronomical Units: ', andromeda_d.to(u.au))"
   ]
  },
  {
   "cell_type": "markdown",
   "metadata": {},
   "source": [
    "\n",
    "So, it's simple to enter a quantity in an easy, human understandable form (like light years), convert to the appropriate SI unit (metres in this case), do the calculations you need and return back to the comportable light years at the end.\n"
   ]
  },
  {
   "cell_type": "markdown",
   "metadata": {},
   "source": [
    "### Excercise 1\n",
    "\n",
    "Find out how to enter a pressure of 1013.25 hectopascals (hPa - this is 'standard' atmospheric pressure) and convert this to pounds per square inch (psi) - should be around 15psi. \n",
    "\n",
    "Hint a 'hectopascal' is 100 Pascals. You could do the conversion manually but astropy.units allows the use of [standard prefixes](http://docs.astropy.org/en/stable/units/standard_units.html).\n",
    "\n",
    "Hint: For the last unit (psi) you'll have to use the 'imperial' module - part of 'units'.\n"
   ]
  },
  {
   "cell_type": "raw",
   "metadata": {},
   "source": [
    "std_p = 1013.25*u.hPa\n",
    "print(std_p)\n",
    "print (type(std_p))\n",
    "\n",
    "imp_std_p = std_p.to(u.imperial.psi)\n",
    "\n",
    "print('Standard atmospheric pressure is', imp_std_p)\n"
   ]
  },
  {
   "cell_type": "markdown",
   "metadata": {},
   "source": [
    "\n",
    "## 2. Constants\n",
    "\n",
    "Astropy has a load of built-in physical constants. Have a look at the [astropy.constants](https://astropy.readthedocs.io/en/stable/constants/index.html) pages for details, but here are some simple examples (Note they are in 'Quantity' units as we've just seen):\n"
   ]
  },
  {
   "cell_type": "code",
   "execution_count": 4,
   "metadata": {},
   "outputs": [
    {
     "name": "stdout",
     "output_type": "stream",
     "text": [
      "Speed of light (in a vacuum)  is   Name   = Speed of light in vacuum\n",
      "  Value  = 299792458.0\n",
      "  Uncertainty  = 0.0\n",
      "  Unit  = m / s\n",
      "  Reference = CODATA 2014\n",
      "The gravitation constant is   Name   = Gravitational constant\n",
      "  Value  = 6.67408e-11\n",
      "  Uncertainty  = 3.1e-15\n",
      "  Unit  = m3 / (kg s2)\n",
      "  Reference = CODATA 2014\n",
      "The standard atmosphere is   Name   = Standard atmosphere\n",
      "  Value  = 101325\n",
      "  Uncertainty  = 0.0\n",
      "  Unit  = Pa\n",
      "  Reference = CODATA 2014\n"
     ]
    }
   ],
   "source": [
    "print('Speed of light (in a vacuum)  is', const.c)\n",
    "print('The gravitation constant is', const.G)\n",
    "print('The standard atmosphere is', const.atm)"
   ]
  },
  {
   "cell_type": "markdown",
   "metadata": {},
   "source": [
    "\n",
    "**Using them in calculations.** Let's work out the energy in 1 gram of matter, expressed as giga Joules. \n",
    "\n",
    "Note how easy it is to convert between unit magnitudes\n",
    "    "
   ]
  },
  {
   "cell_type": "code",
   "execution_count": 5,
   "metadata": {},
   "outputs": [
    {
     "name": "stdout",
     "output_type": "stream",
     "text": [
      "One gram of matter contains 89875.51787368176 GJ\n"
     ]
    }
   ],
   "source": [
    "E = ((1.0*u.g)*(const.c)**2).to('GJ')\n",
    "\n",
    "print('One gram of matter contains', E)"
   ]
  },
  {
   "cell_type": "markdown",
   "metadata": {},
   "source": [
    "\n",
    "### Exercise 2\n",
    "\n",
    "Work out the gravitational force betwen the Sun and the Earth using Newtons garvitational equation $G{m_1m_2} \\over {d^2}$, express it as mega Newtons.\n",
    "\n",
    "Hint: All the values you need are defined in constants.\n",
    "\n",
    "Hint: The distance from Earth to Sun is one Astronomical Unit (AU)\n"
   ]
  },
  {
   "cell_type": "code",
   "execution_count": 6,
   "metadata": {},
   "outputs": [
    {
     "name": "stdout",
     "output_type": "stream",
     "text": [
      "The force between the Earth and the Sun is: 3.5416621652259388e+16 MN\n"
     ]
    }
   ],
   "source": [
    "f = const.G * const.M_earth*const.M_sun/const.au**2\n",
    "\n",
    "print('The force between the Earth and the Sun is:', f.to('MN'))"
   ]
  },
  {
   "cell_type": "markdown",
   "metadata": {},
   "source": [
    "## 3. Coordinate systems\n",
    "\n",
    "Now we'll look at specifying a position in one system and converting this to another.\n",
    "\n",
    "The Sun is generally moving with a speed of around 20km/s towards the bright star Vega in the constellation of Lyra. When measuring radial velocities to objects within our galaxy, we often need to correct for this motion of the Sun - correcting to the Local Standard of Rest (LSR). For this example we're given the position of Vega, in Galactic coordinates (galactic longitude, l=55.8585 degrees, and latitude, b=23.5489 degrees) but need these in celestial equatorial coordinate values of Right ascension and declination (Ra/Dec).\n",
    "\n",
    "First we need to specify the l,b position as an astropy 'SkyCoord', giving the l and b values and also the 'coordinate frame' - in this case it's a Galactic frame specified by the parameter 'galactic'.\n",
    "\n",
    "There a number of different frames we could convert to (have a look at the Astropy  ['Astronomical Coordinate Systems'](http://docs.astropy.org/en/stable/coordinates/) pages) but the one we need is 'icrs'.\n"
   ]
  },
  {
   "cell_type": "code",
   "execution_count": 7,
   "metadata": {},
   "outputs": [],
   "source": [
    "vega_lb = SkyCoord(l=55.8585*u.deg, b=23.5489*u.deg, frame='galactic')"
   ]
  },
  {
   "cell_type": "markdown",
   "metadata": {},
   "source": [
    "We've specified the l and b units separately as degrees. We could also use the form:"
   ]
  },
  {
   "cell_type": "code",
   "execution_count": 8,
   "metadata": {},
   "outputs": [],
   "source": [
    "vega_lb = SkyCoord(l=55.8585, b=23.5489, frame='galactic', unit='deg')"
   ]
  },
  {
   "cell_type": "markdown",
   "metadata": {},
   "source": [
    "\n",
    "As is often the case there is more than one way to get these coordintaes coverted to another **frame** - in our case 'icrs'.\n"
   ]
  },
  {
   "cell_type": "code",
   "execution_count": 9,
   "metadata": {},
   "outputs": [
    {
     "name": "stdout",
     "output_type": "stream",
     "text": [
      "<SkyCoord (ICRS): (ra, dec) in deg\n",
      "    (270.00003058, 30.00018541)>\n",
      "<SkyCoord (ICRS): (ra, dec) in deg\n",
      "    (270.00003058, 30.00018541)>\n"
     ]
    }
   ],
   "source": [
    "vega_radec = vega_lb.icrs\n",
    "print(vega_radec)\n",
    "\n",
    "vega_radec_icrs = vega_lb.transform_to('icrs')\n",
    "print(vega_radec_icrs)"
   ]
  },
  {
   "cell_type": "markdown",
   "metadata": {},
   "source": [
    "\n",
    "The second form gives you, with a further import,  much more control. Here we'll use another coordinate frame, fk5. This is similar to icrs but allows you to change the observational 'epoch'. Effectively, this is where vega would have appeared in 1975.\n",
    "    "
   ]
  },
  {
   "cell_type": "code",
   "execution_count": 10,
   "metadata": {},
   "outputs": [
    {
     "name": "stdout",
     "output_type": "stream",
     "text": [
      "<SkyCoord (FK5: equinox=J1975.000): (ra, dec) in deg\n",
      "    (269.76013133, 30.00048048)>\n"
     ]
    }
   ],
   "source": [
    "from astropy.coordinates import FK5\n",
    "vega_radec_fk = vega_lb.transform_to(FK5(equinox='J1975'))\n",
    "print(vega_radec_fk)"
   ]
  },
  {
   "cell_type": "markdown",
   "metadata": {},
   "source": [
    "\n",
    "We can get the Ra and Dec values:\n",
    "    "
   ]
  },
  {
   "cell_type": "code",
   "execution_count": 11,
   "metadata": {},
   "outputs": [
    {
     "name": "stdout",
     "output_type": "stream",
     "text": [
      "RA is 270d00m00.1101s\n",
      "RA, in degress, is 270.00003057723364 deg2\n"
     ]
    }
   ],
   "source": [
    "print('RA is', vega_radec.ra)\n",
    "print('RA, in degress, is', (vega_radec.ra)*u.deg)"
   ]
  },
  {
   "cell_type": "markdown",
   "metadata": {},
   "source": [
    "### Exercise 3\n",
    "\n",
    "What's the Ra/Dec of the centre of the Galaxy\n"
   ]
  },
  {
   "cell_type": "markdown",
   "metadata": {},
   "source": [
    "\n",
    "### 2.1 Doing calculations with coordinates\n",
    "\n",
    "Astropy also does spatial and angular calculations. Let's look at the Large and Small Magellanic clouds. These are small, irregular galaxies in our Local Group of galaxies. They are so called because they can bee seen as vague smudges of light in the Southern skies looking somewhat like dimly illuminated rain clouds and, reputedly, Magellan (the great 16tn century Portuguese explorer) thought that's what they were.\n",
    "\n",
    "Anyway, the Large Magellanic Cloud (LMC) lies at RA=05h23m34.5s, Dec=-69:45:22 at a distance of 163 kly and the Small Magellanic Cloud (SMC) at RA=00h52m44.8s, Dec=-72:49:43 and 200kly.\n",
    "\n",
    "How far apart are they - in angular terms from the Earth and actual distance?\n",
    "\n",
    "By example, we'll introduce here new ways of specifying coordinates, including distances, and show how to do the calculations.\n",
    "\n"
   ]
  },
  {
   "cell_type": "code",
   "execution_count": 12,
   "metadata": {},
   "outputs": [
    {
     "name": "stdout",
     "output_type": "stream",
     "text": [
      "The LMC is separtaed form the SMC by 74.81055774428279 klyr\n",
      "and by 20d44m46.0264s on the sky\n"
     ]
    }
   ],
   "source": [
    "lmc = SkyCoord('05h23m34.5s', '-69d45m22s', distance = 163*u.klyr)\n",
    "smc = SkyCoord('00h52m44.8s', '-72d49m43s', distance = 200*u.klyr)\n",
    "\n",
    "print('The LMC is separtaed form the SMC by', lmc.separation_3d(smc))\n",
    "print('and by', lmc.separation(smc), 'on the sky')\n"
   ]
  },
  {
   "cell_type": "markdown",
   "metadata": {},
   "source": [
    "### Exercise 3.1\n",
    "\n",
    "Look up the stars Rigel and Betelgeuse (Opposite sides of the Orion constellation - Wikipedia will give you all the information you need) and compute how far apart they are in space. At 0.9 times the speed of light, how long would it take to get from one to the other (ignore any relativistic effects).\n"
   ]
  },
  {
   "cell_type": "markdown",
   "metadata": {},
   "source": [
    "\n",
    "## 4 Earth location coordinates\n",
    "\n",
    "Most observations will be made on Earth based telescopes. For these instruments we are interested in the direction it is pointing - specified by the Altitude and Azimuth angles (Alt/Az). And remember, as the Earth moves during an observation, the Alt and Az values will be continually changing - so the time is also important.\n",
    "\n",
    "How do we specify or calculate these values? We'll look at specifying the location of the PIRATE and ARROW telescopes and an observing time of 21h58m00s (UTC) on 20st March 2019\n",
    "\n",
    "ARROW is at 52.0244W, 0.70639W, at an altitude of 115m. PIRATE is at 28.3N, 16.5097W at an altitude of 2390m.\n"
   ]
  },
  {
   "cell_type": "markdown",
   "metadata": {},
   "source": [
    "###  4.1 Time\n",
    "\n",
    "This is pretty easy to do by concatenating a date and time string and giving this to the [astropy Time](http://docs.astropy.org/en/stable/time/) method. \n",
    "\n",
    "Note: 'format='isot' indicates the format of the input string, 'scale='utc' notes the time scale. If the string format is unambiguos these parameters can be left out.\n"
   ]
  },
  {
   "cell_type": "code",
   "execution_count": 13,
   "metadata": {},
   "outputs": [
    {
     "name": "stdout",
     "output_type": "stream",
     "text": [
      "2019-03-20T21:58:00.000\n"
     ]
    }
   ],
   "source": [
    "time_str= '2019-03-20T21:58:00'\n",
    "obs_time = Time(time_str, format='isot', scale='utc')\n",
    "print(obs_time)"
   ]
  },
  {
   "cell_type": "markdown",
   "metadata": {},
   "source": [
    "### 4.2 Location\n",
    "\n",
    "Once again, pretty self explanatory. \n",
    "\n",
    "Note the use of '\\\\' here to indicate that the command continues on the next line. This is not obligatory - we could just use a long single line - but it does make the code easier to read.\n",
    "\n",
    "Note, a negative sign indicates West (or South).\n"
   ]
  },
  {
   "cell_type": "code",
   "execution_count": 14,
   "metadata": {},
   "outputs": [],
   "source": [
    "arrow = EarthLocation(lat=52.024444*u.deg, \\\n",
    "                   lon=-0.706388*u.deg, \\\n",
    "                   height=114*u.m)\n",
    "\n",
    "pirate = EarthLocation(lat=28.3*u.deg, \\\n",
    "                   lon=-16.5097*u.deg, \\\n",
    "                   height=2390*u.m)\n",
    "\n"
   ]
  },
  {
   "cell_type": "markdown",
   "metadata": {},
   "source": [
    "### 4.3 Frames\n",
    "\n",
    "Earlier, when converting coordinate systems we used differing 'frames - GALACTIC, ICRS, FK5. These were indicated by a simple string, for example 'icrs' which are recognised by astropy. If we want to get to an Alt/Az frame we need to provide further information - an internal 'string' cannot know the date, time or location of our telescope. This is done using the AltAz() method.\n",
    "\n",
    "Using the time and locations we described above:\n"
   ]
  },
  {
   "cell_type": "code",
   "execution_count": 15,
   "metadata": {
    "scrolled": true
   },
   "outputs": [],
   "source": [
    "obs_frame = AltAz(obstime=obs_time , location=arrow )"
   ]
  },
  {
   "cell_type": "markdown",
   "metadata": {},
   "source": [
    "\n",
    "Now we can convert from our previously defined Vega coordinates in the icrs frame (vega_radec_icrs) to our new, arrow specific altAz frame using the '**transform_to method**' - like this:\n"
   ]
  },
  {
   "cell_type": "code",
   "execution_count": 16,
   "metadata": {},
   "outputs": [],
   "source": [
    "obs_altaz = vega_radec_icrs.transform_to(obs_frame)"
   ]
  },
  {
   "cell_type": "markdown",
   "metadata": {},
   "source": [
    "\n",
    "You can get at the altitude and azimuth values (in degrees) like this:\n"
   ]
  },
  {
   "cell_type": "code",
   "execution_count": 17,
   "metadata": {},
   "outputs": [
    {
     "name": "stdout",
     "output_type": "stream",
     "text": [
      "Altitude is 5.8495137194389635 degrees\n",
      "Azimuth is 46.724733745586 degrees\n"
     ]
    }
   ],
   "source": [
    "print ('Altitude is',obs_altaz.alt.deg, 'degrees')\n",
    "print ('Azimuth is',obs_altaz.az.deg, 'degrees')"
   ]
  },
  {
   "cell_type": "markdown",
   "metadata": {},
   "source": [
    "### Exercise 4.3\n",
    "\n",
    "Work out what Alt/Az values you would have needed to point a telescope located at the  PIRATE location towards Polaris, the Pole Star, (well, one of them anyway) at 20h17m00s (UTC) on 20th July 1969. (Any guesses as to why this date/time is interesting?).\n",
    "\n",
    "Do the same for the LMC (information earlier)\n",
    "\n",
    "What does this tell you about the visibility of the two targets at the time?\n",
    "\n",
    "Hint: This is pretty much the same as our previous coordinate conversions. Here you will be going from RA/Dec to AltAz and this will, as before, require a location and time as extra information.\n",
    "\n",
    "Hint: As earlier, use the .transform_to() form - but instead of a string, you'll need to pass it more complete 'frame' information.\n"
   ]
  },
  {
   "cell_type": "code",
   "execution_count": 18,
   "metadata": {},
   "outputs": [
    {
     "name": "stdout",
     "output_type": "stream",
     "text": [
      "27.449051339528904\n",
      "-44.01734541951676\n"
     ]
    },
    {
     "name": "stderr",
     "output_type": "stream",
     "text": [
      "WARNING: Tried to get polar motions for times before IERS data is valid. Defaulting to polar motion from the 50-yr mean for those. This may affect precision at the 10s of arcsec level [astropy.coordinates.builtin_frames.utils]\n"
     ]
    }
   ],
   "source": [
    "pol=SkyCoord('02h30m41s', '89d15m38s')\n",
    "\n",
    "p_str='1969-07-20T20:17:00'\n",
    "p_time = Time(p_str, format='isot', scale='utc')\n",
    "\n",
    "\n",
    "p_frame=AltAz(obstime=p_time, location=pirate)\n",
    "p_altaz=pol.transform_to(p_frame)\n",
    "lmc_altaz=lmc.transform_to(p_frame)\n",
    "\n",
    "print(p_altaz.alt.deg)\n",
    "print(lmc_altaz.alt.deg)"
   ]
  }
 ],
 "metadata": {
  "kernelspec": {
   "display_name": "Python 3",
   "language": "python",
   "name": "python3"
  },
  "language_info": {
   "codemirror_mode": {
    "name": "ipython",
    "version": 3
   },
   "file_extension": ".py",
   "mimetype": "text/x-python",
   "name": "python",
   "nbconvert_exporter": "python",
   "pygments_lexer": "ipython3",
   "version": "3.7.3"
  }
 },
 "nbformat": 4,
 "nbformat_minor": 2
}
